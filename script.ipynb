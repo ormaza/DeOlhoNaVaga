{
  "nbformat": 4,
  "nbformat_minor": 0,
  "metadata": {
    "colab": {
      "provenance": []
    },
    "kernelspec": {
      "name": "python3",
      "display_name": "Python 3"
    },
    "language_info": {
      "name": "python"
    }
  },
  "cells": [
    {
      "cell_type": "code",
      "execution_count": 4,
      "metadata": {
        "id": "mDMZnrKEZgJt"
      },
      "outputs": [],
      "source": []
    },
    {
      "cell_type": "code",
      "source": [
        "import urllib\n",
        "import requests\n",
        "from bs4 import BeautifulSoup\n",
        "response = requests.get('https://olhonavaga.com.br/rankings/ranking?id=72022')\n",
        "soup = BeautifulSoup(response.text, 'html.parser')\n",
        "\n",
        "specific_div = soup.find('label', id='form:j_idt457')\n",
        "if specific_div:\n",
        "  child_element = specific_div.find('span', class_='ui-outputlabel-label')\n",
        "  inscritos = int(child_element.text)\n",
        "  print(\"numero de inscritos:\", inscritos)\n",
        "\n",
        "specific_div = soup.find('label', id='form:participants')\n",
        "if specific_div:\n",
        "  child_element = specific_div.find('span', class_='ui-outputlabel-label')\n",
        "  participantes = int(child_element.text)\n",
        "  print(\"numero de participantes do ranking:\", participantes)\n",
        "\n",
        "fator_multiplicador = inscritos/participantes\n",
        "print(\"fator multiplicador:\", fator_multiplicador)\n",
        "\n",
        "child_soup = soup.find_all('label')\n",
        "for i in child_soup:\n",
        "    if(i.string == 'Ormazabal '):\n",
        "      #print(i)\n",
        "      pos = int(str(i)[68]+str(i)[69])+1\n",
        "      print(\"posição no ranking: \", pos)\n",
        "      posicao_final = int(pos*fator_multiplicador)\n",
        "      print(\"posição no resultado final: \", posicao_final)\n",
        "      break\n",
        "\n",
        "if posicao_final > (21+105):\n",
        "  print(\"REPROVADO\")\n",
        "elif posicao_final > 21 and posicao_final < 105:\n",
        "  print(\"CADASTRO RESERVA\")\n",
        "else:\n",
        "  print(\"APROVADO\")"
      ],
      "metadata": {
        "colab": {
          "base_uri": "https://localhost:8080/"
        },
        "id": "kjYFVyogadGo",
        "outputId": "28839e06-92bf-4619-d347-6a6969bd9f0f"
      },
      "execution_count": 52,
      "outputs": [
        {
          "output_type": "stream",
          "name": "stdout",
          "text": [
            "numero de inscritos: 892\n",
            "numero de participantes do ranking: 140\n",
            "fator multiplicador: 6.371428571428571\n",
            "posição no ranking:  25\n",
            "posição no resultado final:  159\n",
            "REPROVADO\n"
          ]
        }
      ]
    }
  ]
}